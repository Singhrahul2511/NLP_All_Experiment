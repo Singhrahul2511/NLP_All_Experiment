{
  "nbformat": 4,
  "nbformat_minor": 0,
  "metadata": {
    "colab": {
      "provenance": [],
      "authorship_tag": "ABX9TyNhFZg2K2ssLRNPu4ZOvkHI",
      "include_colab_link": true
    },
    "kernelspec": {
      "name": "python3",
      "display_name": "Python 3"
    },
    "language_info": {
      "name": "python"
    }
  },
  "cells": [
    {
      "cell_type": "markdown",
      "metadata": {
        "id": "view-in-github",
        "colab_type": "text"
      },
      "source": [
        "<a href=\"https://colab.research.google.com/github/Singhrahul2511/NLP_All_Experiment/blob/main/Und_reg_exp_fnit_stt_mor_par(Ex_10).ipynb\" target=\"_parent\"><img src=\"https://colab.research.google.com/assets/colab-badge.svg\" alt=\"Open In Colab\"/></a>"
      ]
    },
    {
      "cell_type": "code",
      "execution_count": 1,
      "metadata": {
        "colab": {
          "base_uri": "https://localhost:8080/"
        },
        "id": "9YZBFOtm3h4d",
        "outputId": "544d7dcf-d388-4e88-c164-646aa6c232a6"
      },
      "outputs": [
        {
          "output_type": "stream",
          "name": "stdout",
          "text": [
            "Word: unhappy -> Morphological Parse: [('un', 'PREFIX'), ('happy', 'ROOT')]\n",
            "Word: redoing -> Morphological Parse: [('re', 'PREFIX'), ('ing', 'SUFFIX'), ('do', 'ROOT')]\n",
            "Word: misunderstood -> Morphological Parse: [('mis', 'PREFIX'), ('understood', 'ROOT')]\n",
            "Word: joyful -> Morphological Parse: [('ful', 'SUFFIX'), ('joy', 'ROOT')]\n",
            "Word: hopeful -> Morphological Parse: [('ful', 'SUFFIX'), ('hope', 'ROOT')]\n",
            "Word: quickness -> Morphological Parse: [('ness', 'SUFFIX'), ('quick', 'ROOT')]\n",
            "Word: disbelief -> Morphological Parse: [('dis', 'PREFIX'), ('belief', 'ROOT')]\n"
          ]
        }
      ],
      "source": [
        "import re\n",
        "\n",
        "# Define morphological rules using regular expressions\n",
        "rules = {\n",
        "    'prefixes': [\n",
        "        (r'^(un|re|dis|pre|mis|in)', 'PREFIX'),  # Common prefixes\n",
        "    ],\n",
        "    'suffixes': [\n",
        "        (r'(ing|ed|s|es|er|est|ent|ly|ness|ment|ful|less|able|ible)$', 'SUFFIX'),  # Common suffixes\n",
        "    ],\n",
        "    'roots': [\n",
        "        (r'[a-zA-Z]+', 'ROOT')  # Any remaining part is considered a root\n",
        "    ]\n",
        "}\n",
        "\n",
        "def morphological_parse(word):\n",
        "    \"\"\"\n",
        "    Morphologically parse a word into its components (prefix, root, suffix).\n",
        "    Args:\n",
        "    - word (str): The word to be parsed.\n",
        "\n",
        "    Returns:\n",
        "    - parsed_result (list of tuples): List containing the morphological components and their types.\n",
        "    \"\"\"\n",
        "    parsed_result = []\n",
        "\n",
        "    # Step 1: Check for prefix\n",
        "    for pattern, label in rules['prefixes']:\n",
        "        if re.match(pattern, word):\n",
        "            match = re.match(pattern, word)\n",
        "            prefix = match.group()\n",
        "            parsed_result.append((prefix, label))\n",
        "            word = re.sub(pattern, '', word, count=1)  # Remove prefix from the word\n",
        "            break  # Only one prefix assumed, break after first match\n",
        "\n",
        "    # Step 2: Check for suffix\n",
        "    for pattern, label in rules['suffixes']:\n",
        "        if re.search(pattern, word):\n",
        "            match = re.search(pattern, word)\n",
        "            suffix = match.group()\n",
        "            parsed_result.append((suffix, label))\n",
        "            word = re.sub(pattern, '', word, count=1)  # Remove suffix from the word\n",
        "            break  # Only one suffix assumed, break after first match\n",
        "\n",
        "    # Step 3: Whatever remains is the root\n",
        "    if word:  # If there is still something left\n",
        "        parsed_result.append((word, 'ROOT'))\n",
        "\n",
        "    return parsed_result\n",
        "\n",
        "# Sample words for morphological parsing\n",
        "words = ['unhappy', 'redoing', 'misunderstood', 'joyful', 'hopeful', 'quickness', 'disbelief']\n",
        "\n",
        "\n",
        "# Parse each word\n",
        "for word in words:\n",
        "    parsed_word = morphological_parse(word)\n",
        "    print(f\"Word: {word} -> Morphological Parse: {parsed_word}\")\n",
        "\n"
      ]
    },
    {
      "cell_type": "code",
      "source": [],
      "metadata": {
        "id": "DZGlx9vz4hMO"
      },
      "execution_count": null,
      "outputs": []
    }
  ]
}