{
  "nbformat": 4,
  "nbformat_minor": 0,
  "metadata": {
    "colab": {
      "provenance": [],
      "authorship_tag": "ABX9TyN348X9Wx+hygm7sYgfjH6c",
      "include_colab_link": true
    },
    "kernelspec": {
      "name": "python3",
      "display_name": "Python 3"
    },
    "language_info": {
      "name": "python"
    }
  },
  "cells": [
    {
      "cell_type": "markdown",
      "metadata": {
        "id": "view-in-github",
        "colab_type": "text"
      },
      "source": [
        "<a href=\"https://colab.research.google.com/github/Singhrahul2511/NLP_All_Experiment/blob/main/MED(11).ipynb\" target=\"_parent\"><img src=\"https://colab.research.google.com/assets/colab-badge.svg\" alt=\"Open In Colab\"/></a>"
      ]
    },
    {
      "cell_type": "code",
      "execution_count": null,
      "metadata": {
        "colab": {
          "base_uri": "https://localhost:8080/"
        },
        "id": "qB7gsCqCo1vN",
        "outputId": "3bbc4bff-d4c7-4c4f-8ec3-00e7b9db77d3"
      },
      "outputs": [
        {
          "output_type": "stream",
          "name": "stdout",
          "text": [
            "Minimum Edit Distance between 'Kitten' and 'Sitting' is 5\n"
          ]
        }
      ],
      "source": [
        "def min_edit_distance(source, target):\n",
        "    n = len(source)\n",
        "    m = len(target)\n",
        "\n",
        "    # Step 1: Create a distance matrix D[n+1, m+1]\n",
        "    D = [[0 for _ in range(m+1)] for _ in range(n+1)]\n",
        "\n",
        "    # Step 2: Initialization - zeroth row and column represent empty string transformations\n",
        "    for i in range(1, n+1):\n",
        "        D[i][0] = i  # Cost for deletions (source -> empty)\n",
        "    for j in range(1, m+1):\n",
        "        D[0][j] = j  # Cost for insertions (empty -> target)\n",
        "\n",
        "    # Step 3: Fill the matrix using the recurrence relation\n",
        "    for i in range(1, n+1):\n",
        "        for j in range(1, m+1):\n",
        "            if source[i-1] == target[j-1]:\n",
        "                substitution_cost = 0  # No cost if characters match\n",
        "            else:\n",
        "                substitution_cost = 2  # Cost of 2 if characters don't match\n",
        "\n",
        "            # Recurrence relation: min of delete, insert, substitute\n",
        "            D[i][j] = min(\n",
        "                D[i-1][j] + 1,              # Deletion\n",
        "                D[i][j-1] + 1,              # Insertion\n",
        "                D[i-1][j-1] + substitution_cost  # Substitution\n",
        "            )\n",
        "\n",
        "    # Step 4: Termination - the final value is the minimum edit distance\n",
        "    return D[n][m]\n",
        "\n",
        "# Example usage:\n",
        "source = \"Kitten\"#flaw\n",
        "target = \"Sitting\"#lawn\n",
        "distance = min_edit_distance(source, target)\n",
        "print(f\"Minimum Edit Distance between '{source}' and '{target}' is {distance}\")"
      ]
    },
    {
      "cell_type": "code",
      "source": [],
      "metadata": {
        "id": "xrYn9320pdMU"
      },
      "execution_count": null,
      "outputs": []
    }
  ]
}