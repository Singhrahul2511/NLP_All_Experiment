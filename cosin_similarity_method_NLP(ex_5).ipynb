{
  "nbformat": 4,
  "nbformat_minor": 0,
  "metadata": {
    "colab": {
      "provenance": [],
      "authorship_tag": "ABX9TyNh2x4tW2kyQ/oukwkoKM4F",
      "include_colab_link": true
    },
    "kernelspec": {
      "name": "python3",
      "display_name": "Python 3"
    },
    "language_info": {
      "name": "python"
    }
  },
  "cells": [
    {
      "cell_type": "markdown",
      "metadata": {
        "id": "view-in-github",
        "colab_type": "text"
      },
      "source": [
        "<a href=\"https://colab.research.google.com/github/Singhrahul2511/NLP_All_Experiment/blob/main/cosin_similarity_method_NLP(ex_5).ipynb\" target=\"_parent\"><img src=\"https://colab.research.google.com/assets/colab-badge.svg\" alt=\"Open In Colab\"/></a>"
      ]
    },
    {
      "cell_type": "code",
      "execution_count": null,
      "metadata": {
        "colab": {
          "base_uri": "https://localhost:8080/"
        },
        "id": "vWd8lJrAf1bb",
        "outputId": "a8f7d229-e3ca-45fd-9ae7-00e4d2586f88"
      },
      "outputs": [
        {
          "output_type": "stream",
          "name": "stderr",
          "text": [
            "[nltk_data] Downloading package punkt to /root/nltk_data...\n",
            "[nltk_data]   Unzipping tokenizers/punkt.zip.\n",
            "[nltk_data] Downloading package stopwords to /root/nltk_data...\n",
            "[nltk_data]   Unzipping corpora/stopwords.zip.\n"
          ]
        },
        {
          "output_type": "stream",
          "name": "stdout",
          "text": [
            "{'This', '.', 'document', 'first'}\n",
            "{'This', '.', 'document', 'first'}\n"
          ]
        }
      ],
      "source": [
        "import nltk\n",
        "nltk.download('punkt')\n",
        "nltk.download('stopwords')\n",
        "from nltk.corpus import stopwords\n",
        "from nltk.tokenize import word_tokenize\n",
        "\n",
        "doc1 =\"This is first document.\"\n",
        "doc2 =\"This is first document.\"\n",
        "doc1_list = nltk.word_tokenize(doc1)\n",
        "doc2_list = nltk.word_tokenize(doc2)\n",
        "\n",
        "sw = stopwords.words('english')\n",
        "l1 =[];\n",
        "l2 =[]\n",
        "# remove stop words from the string\n",
        "X_set = {w for w in doc1_list if not w in sw}\n",
        "Y_set = {w for w in doc2_list if not w in sw}\n",
        "print(X_set)\n",
        "print(Y_set)\n"
      ]
    },
    {
      "cell_type": "code",
      "source": [
        "# form a set containing keywords of both strings\n",
        "rvector = X_set.union(Y_set)\n",
        "for w in rvector:\n",
        "    if w in X_set: l1.append(1) # create a vector\n",
        "    else: l1.append(0)\n",
        "    if w in Y_set: l2.append(1)\n",
        "    else: l2.append(0)\n",
        "c = 0\n",
        "# cosine formula\n",
        "if sum(l1) == 0 or sum(l2) == 0:\n",
        "    cosine = 0  # Handle cases where one or both documents are empty\n",
        "else:\n",
        "    for i in range(len(rvector)):\n",
        "        c+= l1[i]*l2[i]\n",
        "    cosine = c / float((sum(l1)*sum(l2))**0.5)\n",
        "print(\"Cosine Similarity Score: \", cosine)\n"
      ],
      "metadata": {
        "colab": {
          "base_uri": "https://localhost:8080/"
        },
        "id": "-6-rZjYRgNRA",
        "outputId": "9038a8d6-2713-4c5d-ba35-daccbb55d458"
      },
      "execution_count": null,
      "outputs": [
        {
          "output_type": "stream",
          "name": "stdout",
          "text": [
            "Cosine Similarity Score:  1.0\n"
          ]
        }
      ]
    }
  ]
}