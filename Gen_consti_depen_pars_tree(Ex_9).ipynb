{
  "nbformat": 4,
  "nbformat_minor": 0,
  "metadata": {
    "colab": {
      "provenance": [],
      "authorship_tag": "ABX9TyOt0ho6QwRbLwfiwMwZWpsi",
      "include_colab_link": true
    },
    "kernelspec": {
      "name": "python3",
      "display_name": "Python 3"
    },
    "language_info": {
      "name": "python"
    }
  },
  "cells": [
    {
      "cell_type": "markdown",
      "metadata": {
        "id": "view-in-github",
        "colab_type": "text"
      },
      "source": [
        "<a href=\"https://colab.research.google.com/github/Singhrahul2511/NLP_All_Experiment/blob/main/Gen_consti_depen_pars_tree(Ex_9).ipynb\" target=\"_parent\"><img src=\"https://colab.research.google.com/assets/colab-badge.svg\" alt=\"Open In Colab\"/></a>"
      ]
    },
    {
      "cell_type": "code",
      "source": [
        "!pip install nltk\n",
        "\n",
        "!pip install matplotlib"
      ],
      "metadata": {
        "colab": {
          "base_uri": "https://localhost:8080/"
        },
        "id": "efPfvBYZ2SSW",
        "outputId": "428f87fe-4454-421c-bb41-2ad6e12a2658"
      },
      "execution_count": 3,
      "outputs": [
        {
          "output_type": "stream",
          "name": "stdout",
          "text": [
            "Requirement already satisfied: nltk in /usr/local/lib/python3.10/dist-packages (3.8.1)\n",
            "Requirement already satisfied: click in /usr/local/lib/python3.10/dist-packages (from nltk) (8.1.7)\n",
            "Requirement already satisfied: joblib in /usr/local/lib/python3.10/dist-packages (from nltk) (1.4.2)\n",
            "Requirement already satisfied: regex>=2021.8.3 in /usr/local/lib/python3.10/dist-packages (from nltk) (2024.5.15)\n",
            "Requirement already satisfied: tqdm in /usr/local/lib/python3.10/dist-packages (from nltk) (4.66.5)\n",
            "Requirement already satisfied: matplotlib in /usr/local/lib/python3.10/dist-packages (3.7.1)\n",
            "Requirement already satisfied: contourpy>=1.0.1 in /usr/local/lib/python3.10/dist-packages (from matplotlib) (1.3.0)\n",
            "Requirement already satisfied: cycler>=0.10 in /usr/local/lib/python3.10/dist-packages (from matplotlib) (0.12.1)\n",
            "Requirement already satisfied: fonttools>=4.22.0 in /usr/local/lib/python3.10/dist-packages (from matplotlib) (4.53.1)\n",
            "Requirement already satisfied: kiwisolver>=1.0.1 in /usr/local/lib/python3.10/dist-packages (from matplotlib) (1.4.5)\n",
            "Requirement already satisfied: numpy>=1.20 in /usr/local/lib/python3.10/dist-packages (from matplotlib) (1.26.4)\n",
            "Requirement already satisfied: packaging>=20.0 in /usr/local/lib/python3.10/dist-packages (from matplotlib) (24.1)\n",
            "Requirement already satisfied: pillow>=6.2.0 in /usr/local/lib/python3.10/dist-packages (from matplotlib) (9.4.0)\n",
            "Requirement already satisfied: pyparsing>=2.3.1 in /usr/local/lib/python3.10/dist-packages (from matplotlib) (3.1.4)\n",
            "Requirement already satisfied: python-dateutil>=2.7 in /usr/local/lib/python3.10/dist-packages (from matplotlib) (2.8.2)\n",
            "Requirement already satisfied: six>=1.5 in /usr/local/lib/python3.10/dist-packages (from python-dateutil>=2.7->matplotlib) (1.16.0)\n"
          ]
        }
      ]
    },
    {
      "cell_type": "code",
      "execution_count": 5,
      "metadata": {
        "colab": {
          "base_uri": "https://localhost:8080/"
        },
        "id": "IZjdjwZL1e2U",
        "outputId": "78c9473d-568c-413c-bbba-f99d9bf3a9c8"
      },
      "outputs": [
        {
          "output_type": "stream",
          "name": "stdout",
          "text": [
            "(S (NP (DT the) (NN cat)) (VP (VBZ chases) (NP (DT the) (NN dog))))\n",
            "              S               \n",
            "      ________|_____           \n",
            "     |              VP        \n",
            "     |         _____|___       \n",
            "     NP       |         NP    \n",
            "  ___|___     |      ___|___   \n",
            " DT      NN  VBZ    DT      NN\n",
            " |       |    |     |       |  \n",
            "the     cat chases the     dog\n",
            "\n"
          ]
        }
      ],
      "source": [
        "\n",
        "import nltk\n",
        "from nltk import CFG\n",
        "import matplotlib.pyplot as plt\n",
        "\n",
        "# Define a context-free grammar\n",
        "grammar = CFG.fromstring(\"\"\"\n",
        "  S -> NP VP\n",
        "  NP -> DT NN | DT NNS | DT NN PP | DT NNS PP | NNP | NN | NNS | DT JJ NN\n",
        "\n",
        "  VP -> VBZ NP | VB NP | VBG NP | VBZ PP | VB PP | VBG PP | VBZ NP PP\n",
        "\n",
        "  PP -> IN NP | IN PRPS NP\n",
        "  DT -> 'the' | 'a'\n",
        "  NN -> 'cat' | 'dog' | 'park' | 'telescope' | 'man' | 'tower' | 'river' | 'house'\n",
        "  NNS -> 'cats' | 'dogs'\n",
        "  NNP -> 'john'\n",
        "  VBZ -> 'chases' | 'sees' | 'shades'\n",
        "  VB -> 'saw' | 'chased'\n",
        "  VBG -> 'seeing'\n",
        "  IN -> 'in' | 'on' | 'under' | 'over' | 'with' | 'by'\n",
        "  JJ -> 'big' | 'small' | 'old'\n",
        "  PRPS -> 'his'\n",
        "\"\"\")\n",
        "# Define a parser based on the grammar\n",
        "parser = nltk.ChartParser(grammar)\n",
        "\n",
        "# Define the sentence to parse\n",
        "sentence = \"the cat chases the dog\".split()\n",
        "\n",
        "# Parse the sentence and get the parse tree\n",
        "for tree in parser.parse(sentence):\n",
        "    print(tree)\n",
        "    # Draw the parse tree using Matplotlib\n",
        "    tree.pretty_print()  # Print the tree structure in text form\n"
      ]
    },
    {
      "cell_type": "code",
      "source": [],
      "metadata": {
        "id": "FEYIkRa915dm"
      },
      "execution_count": null,
      "outputs": []
    }
  ]
}