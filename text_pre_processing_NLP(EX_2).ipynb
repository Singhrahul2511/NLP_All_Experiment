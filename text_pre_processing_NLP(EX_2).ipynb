{
  "nbformat": 4,
  "nbformat_minor": 0,
  "metadata": {
    "colab": {
      "provenance": [],
      "authorship_tag": "ABX9TyMyR0AqLME4HVF+sHXPIZqe",
      "include_colab_link": true
    },
    "kernelspec": {
      "name": "python3",
      "display_name": "Python 3"
    },
    "language_info": {
      "name": "python"
    }
  },
  "cells": [
    {
      "cell_type": "markdown",
      "metadata": {
        "id": "view-in-github",
        "colab_type": "text"
      },
      "source": [
        "<a href=\"https://colab.research.google.com/github/Singhrahul2511/NLP_All_Experiment/blob/main/text_pre_processing_NLP(EX_2).ipynb\" target=\"_parent\"><img src=\"https://colab.research.google.com/assets/colab-badge.svg\" alt=\"Open In Colab\"/></a>"
      ]
    },
    {
      "cell_type": "markdown",
      "source": [
        "**EX-1(text pre_processing)**"
      ],
      "metadata": {
        "id": "eIYpJnj8jNfX"
      }
    },
    {
      "cell_type": "code",
      "source": [
        "import nltk\n",
        "nltk.download('punkt')\n",
        "nltk.download('stopwords')\n",
        "nltk.download('wordnet')"
      ],
      "metadata": {
        "colab": {
          "base_uri": "https://localhost:8080/"
        },
        "id": "6as4LgfDirLE",
        "outputId": "6db047cb-a92a-4b4e-b75d-df3fe0d63ba5"
      },
      "execution_count": null,
      "outputs": [
        {
          "output_type": "stream",
          "name": "stderr",
          "text": [
            "[nltk_data] Downloading package punkt to /root/nltk_data...\n",
            "[nltk_data]   Unzipping tokenizers/punkt.zip.\n",
            "[nltk_data] Downloading package stopwords to /root/nltk_data...\n",
            "[nltk_data]   Unzipping corpora/stopwords.zip.\n",
            "[nltk_data] Downloading package wordnet to /root/nltk_data...\n"
          ]
        },
        {
          "output_type": "execute_result",
          "data": {
            "text/plain": [
              "True"
            ]
          },
          "metadata": {},
          "execution_count": 2
        }
      ]
    },
    {
      "cell_type": "code",
      "source": [
        "sentence_data = \"this is my 2nd lab experiment for NLTK.my NLP  faculty is very strict . but i am learning this cource to build my foundation in NLP\"\n",
        "nltk_tokens = nltk.sent_tokenize(sentence_data)\n",
        "print(\"Sentence Tokenization:\", nltk_tokens)"
      ],
      "metadata": {
        "colab": {
          "base_uri": "https://localhost:8080/"
        },
        "id": "NhWh9ncMiyYT",
        "outputId": "1e27569e-6566-4390-98bf-fe3c4a3ca6b6"
      },
      "execution_count": null,
      "outputs": [
        {
          "output_type": "stream",
          "name": "stdout",
          "text": [
            "Sentence Tokenization: ['this is my 2nd lab experiment for NLTK.my NLP  faculty is very strict .', 'but i am learning this cource to build my foundation in NLP']\n"
          ]
        }
      ]
    },
    {
      "cell_type": "code",
      "source": [
        "from nltk.corpus import stopwords\n",
        "nltk.download('stopwords')\n",
        "print(stopwords.words('english'))"
      ],
      "metadata": {
        "colab": {
          "base_uri": "https://localhost:8080/"
        },
        "id": "8BRPVHJU-QRp",
        "outputId": "6b6c974e-18cc-44d9-bf12-ddef29db7853"
      },
      "execution_count": null,
      "outputs": [
        {
          "output_type": "stream",
          "name": "stdout",
          "text": [
            "['i', 'me', 'my', 'myself', 'we', 'our', 'ours', 'ourselves', 'you', \"you're\", \"you've\", \"you'll\", \"you'd\", 'your', 'yours', 'yourself', 'yourselves', 'he', 'him', 'his', 'himself', 'she', \"she's\", 'her', 'hers', 'herself', 'it', \"it's\", 'its', 'itself', 'they', 'them', 'their', 'theirs', 'themselves', 'what', 'which', 'who', 'whom', 'this', 'that', \"that'll\", 'these', 'those', 'am', 'is', 'are', 'was', 'were', 'be', 'been', 'being', 'have', 'has', 'had', 'having', 'do', 'does', 'did', 'doing', 'a', 'an', 'the', 'and', 'but', 'if', 'or', 'because', 'as', 'until', 'while', 'of', 'at', 'by', 'for', 'with', 'about', 'against', 'between', 'into', 'through', 'during', 'before', 'after', 'above', 'below', 'to', 'from', 'up', 'down', 'in', 'out', 'on', 'off', 'over', 'under', 'again', 'further', 'then', 'once', 'here', 'there', 'when', 'where', 'why', 'how', 'all', 'any', 'both', 'each', 'few', 'more', 'most', 'other', 'some', 'such', 'no', 'nor', 'not', 'only', 'own', 'same', 'so', 'than', 'too', 'very', 's', 't', 'can', 'will', 'just', 'don', \"don't\", 'should', \"should've\", 'now', 'd', 'll', 'm', 'o', 're', 've', 'y', 'ain', 'aren', \"aren't\", 'couldn', \"couldn't\", 'didn', \"didn't\", 'doesn', \"doesn't\", 'hadn', \"hadn't\", 'hasn', \"hasn't\", 'haven', \"haven't\", 'isn', \"isn't\", 'ma', 'mightn', \"mightn't\", 'mustn', \"mustn't\", 'needn', \"needn't\", 'shan', \"shan't\", 'shouldn', \"shouldn't\", 'wasn', \"wasn't\", 'weren', \"weren't\", 'won', \"won't\", 'wouldn', \"wouldn't\"]\n"
          ]
        },
        {
          "output_type": "stream",
          "name": "stderr",
          "text": [
            "[nltk_data] Downloading package stopwords to /root/nltk_data...\n",
            "[nltk_data]   Package stopwords is already up-to-date!\n"
          ]
        }
      ]
    },
    {
      "cell_type": "code",
      "source": [
        "word_data = \"i used to understand only 70% of NLP class.\"\n",
        "nltk_tokens = nltk.word_tokenize(word_data)\n",
        "print(\"Word Tokenization:\", nltk_tokens)"
      ],
      "metadata": {
        "colab": {
          "base_uri": "https://localhost:8080/"
        },
        "id": "6NKQxwzii3zF",
        "outputId": "1c699836-6567-4cc1-9890-f7a5b6b32c00"
      },
      "execution_count": null,
      "outputs": [
        {
          "output_type": "stream",
          "name": "stdout",
          "text": [
            "Word Tokenization: ['i', 'used', 'to', 'understand', 'only', '70', '%', 'of', 'NLP', 'class', '.']\n"
          ]
        }
      ]
    },
    {
      "cell_type": "code",
      "source": [],
      "metadata": {
        "id": "oMRRwaTW8Pzh"
      },
      "execution_count": null,
      "outputs": []
    },
    {
      "cell_type": "code",
      "source": [
        "from nltk.corpus import stopwords\n",
        "from nltk.tokenize import word_tokenize\n",
        "\n",
        "example_sent = \"\"\"Ram has no intrest in learning NLP but he is trying\"\"\"\n",
        "stop_words = set(stopwords.words('english'))\n",
        "\n",
        "word_tokens = word_tokenize(example_sent)\n",
        "\n",
        "filtered_sentence = [w for w in word_tokens if not w.lower() in stop_words]\n",
        "filtered_sentence_no_lower = [w for w in word_tokens if w not in stop_words]\n",
        "\n",
        "print(\"Original Sentence Tokens:\", word_tokens)\n",
        "print(\"Filtered Sentence:\", filtered_sentence)\n",
        "print(\"Filtered Sentence without lower case conversion:\", filtered_sentence_no_lower)"
      ],
      "metadata": {
        "colab": {
          "base_uri": "https://localhost:8080/"
        },
        "id": "i4D7Co0mi5ne",
        "outputId": "6f7b1ad3-446c-490b-a609-af8199043530"
      },
      "execution_count": null,
      "outputs": [
        {
          "output_type": "stream",
          "name": "stdout",
          "text": [
            "Original Sentence Tokens: ['Ram', 'has', 'no', 'intrest', 'in', 'learning', 'NLP', 'but', 'he', 'is', 'trying']\n",
            "Filtered Sentence: ['Ram', 'intrest', 'learning', 'NLP', 'trying']\n",
            "Filtered Sentence without lower case conversion: ['Ram', 'intrest', 'learning', 'NLP', 'trying']\n"
          ]
        }
      ]
    },
    {
      "cell_type": "code",
      "source": [
        "from nltk.stem import PorterStemmer\n",
        "\n",
        "ps = PorterStemmer()\n",
        "sentence = \"Rahul is a b.tech student in kalasalingam university\"\n",
        "words = word_tokenize(sentence)\n",
        "\n",
        "print(\"Stemming:\")\n",
        "for w in words:\n",
        "    print(w, \"\\t\", ps.stem(w))"
      ],
      "metadata": {
        "colab": {
          "base_uri": "https://localhost:8080/"
        },
        "id": "lNwCits_jAwy",
        "outputId": "12de63c5-a9c4-4158-cb27-644c39781f04"
      },
      "execution_count": null,
      "outputs": [
        {
          "output_type": "stream",
          "name": "stdout",
          "text": [
            "Stemming:\n",
            "Rahul \t rahul\n",
            "is \t is\n",
            "a \t a\n",
            "b.tech \t b.tech\n",
            "student \t student\n",
            "in \t in\n",
            "kalasalingam \t kalasalingam\n",
            "university \t univers\n"
          ]
        }
      ]
    },
    {
      "cell_type": "code",
      "source": [
        "from nltk.stem import WordNetLemmatizer\n",
        "\n",
        "lemmatizer = WordNetLemmatizer()\n",
        "\n",
        "print(\"Lemmatization:\")\n",
        "print(\"will:\", lemmatizer.lemmatize(\"will\", pos=\"v\"))\n",
        "print(\"best:\", lemmatizer.lemmatize(\"best\", pos=\"a\"))\n",
        "print(\"were:\", lemmatizer.lemmatize(\"were\", pos=\"v\"))"
      ],
      "metadata": {
        "colab": {
          "base_uri": "https://localhost:8080/"
        },
        "id": "U6e94dWufqXS",
        "outputId": "31636cd2-4991-40ec-a648-5de0313dfa17"
      },
      "execution_count": null,
      "outputs": [
        {
          "output_type": "stream",
          "name": "stdout",
          "text": [
            "Lemmatization:\n",
            "will: will\n",
            "best: best\n",
            "were: be\n"
          ]
        }
      ]
    },
    {
      "cell_type": "markdown",
      "source": [
        "**EX-2(text pre-processing)**"
      ],
      "metadata": {
        "id": "o9ccS0H-ghIH"
      }
    },
    {
      "cell_type": "code",
      "source": [
        "import spacy"
      ],
      "metadata": {
        "id": "ujRM-73Kfrde"
      },
      "execution_count": null,
      "outputs": []
    },
    {
      "cell_type": "code",
      "source": [
        "en = spacy.load('en_core_web_sm')\n",
        "sw_spacy = en.Defaults.stop_words\n",
        "print(sw_spacy)"
      ],
      "metadata": {
        "colab": {
          "base_uri": "https://localhost:8080/"
        },
        "id": "1KlkezPVgmVl",
        "outputId": "0c21a4c8-33f7-4ccd-8438-ae760c422b5f"
      },
      "execution_count": null,
      "outputs": [
        {
          "output_type": "stream",
          "name": "stdout",
          "text": [
            "{'various', 'among', 'some', 'he', 'hers', 'third', 'seems', 'behind', 'or', 'mostly', '’ve', 'thereafter', 'becoming', '’s', 'between', 'thence', 'thereby', 'all', 'without', 'whom', 'elsewhere', 'it', 'two', '‘m', 'somewhere', 'seem', 'be', 'say', '‘ve', \"'m\", 'of', 'so', 'being', 'been', 'were', 'least', 'this', 'nevertheless', 'upon', 'had', 'nor', 'became', 'often', 'does', 'one', 'top', 'almost', 'why', 'yet', 'eight', 'no', '’ll', 'else', 'whoever', 'anything', 'these', 'used', 'from', 'put', 'seemed', 'latter', 'therein', 'please', 'against', 'anyway', 'itself', 'unless', 'yourself', 'on', 'nobody', 'over', 'with', '‘ll', 'part', 'our', 'bottom', 'really', 'off', 'using', 'regarding', 'once', 'along', 'somehow', 'whatever', 'another', '‘d', 'someone', 'back', '’d', 'more', 'amount', 'enough', 'a', \"'ve\", 'namely', 'per', \"'d\", 'even', 'call', \"'re\", 'toward', 'should', 'alone', 'well', 'themselves', 'except', 'any', 'but', 'is', 'further', 'very', 'while', 'everything', 'hundred', 'whole', 'last', 'that', 'quite', 'throughout', '’m', 'now', 'up', 'could', 'ourselves', 'how', 'besides', 'only', 'us', 'otherwise', 'an', 'until', 'was', 'others', 'becomes', 'many', 'nine', 'we', 'am', 'because', 'himself', 'after', 'both', 'formerly', 'side', 'hereby', 'less', \"n't\", 'anyone', 'though', 'above', 'mine', 'she', \"'ll\", 'front', 'same', 'however', 'my', 'much', 'although', 'ever', 'take', 'everyone', 'into', 'sixty', 'see', 'before', 'hence', 'own', 'twelve', 'become', 'did', 'and', 'everywhere', 'empty', 'then', 'thru', 'anywhere', 'to', 'since', 'beforehand', 'within', 'four', 'hereafter', 'first', 'ours', 'nowhere', 'below', 'towards', 'whereafter', 'which', 'must', 'amongst', 'ca', 'whether', 'during', 'noone', 'fifty', 'if', 'next', 'sometime', 'whose', 'nothing', 'not', 'myself', 'him', 'whereby', '’re', 'yourselves', 'might', 'fifteen', 'show', 'across', 'the', 'sometimes', 'has', 'former', 'beyond', 'here', 'can', 'her', 'where', 'when', 'have', 'thereupon', 'do', 'give', 'via', 'may', 'every', 'several', 'beside', 'i', 'would', 'five', 'still', 'whereupon', 'keep', 'meanwhile', 'around', 'full', 'wherein', 'their', 'whence', 'as', 'forty', 'already', 'something', 'will', 'afterwards', 'wherever', 'are', 'they', 'onto', 'latterly', 'ten', 'what', 'whenever', 'in', 'each', 'due', 'done', 'get', 'again', 'never', 'under', 'down', 'make', 'eleven', 'too', 'herself', 'doing', '‘s', 'for', 'together', 'moreover', 'by', 'whither', 'neither', 'such', 'hereupon', 'indeed', 'none', 'made', 'his', 'whereas', 'your', 'anyhow', 'herein', 're', 'other', 'there', 'cannot', 'rather', \"'s\", 'out', 'you', 'therefore', 'who', 'me', 'six', 'few', 'through', 'either', 'those', 'than', 'thus', 'at', 'most', 'move', 'serious', 'seeming', 'go', 'yours', 'twenty', 'about', 'also', 'three', 'its', 'them', 'perhaps', 'just', 'always', 'n’t', 'name', '‘re', 'n‘t'}\n"
          ]
        }
      ]
    },
    {
      "cell_type": "code",
      "source": [
        "print(len(sw_spacy))"
      ],
      "metadata": {
        "colab": {
          "base_uri": "https://localhost:8080/"
        },
        "id": "zGZUUuuQg1Vf",
        "outputId": "2dc0b5a1-256b-4a99-ae28-e7ace9fac3dc"
      },
      "execution_count": null,
      "outputs": [
        {
          "output_type": "stream",
          "name": "stdout",
          "text": [
            "326\n"
          ]
        }
      ]
    },
    {
      "cell_type": "code",
      "source": [
        "nlp = spacy.load('en_core_web_sm')\n",
        "doc = nlp(\"we can use spacy in nlp to detect language.\")\n",
        "for token in doc:\n",
        "  print(token)\n"
      ],
      "metadata": {
        "colab": {
          "base_uri": "https://localhost:8080/"
        },
        "id": "ufzqi5CdhBbv",
        "outputId": "b4dfcf93-1ebe-44ad-8a09-cc865ecbb900"
      },
      "execution_count": null,
      "outputs": [
        {
          "output_type": "stream",
          "name": "stdout",
          "text": [
            "we\n",
            "can\n",
            "use\n",
            "spacy\n",
            "in\n",
            "nlp\n",
            "to\n",
            "detect\n",
            "language\n",
            ".\n"
          ]
        }
      ]
    },
    {
      "cell_type": "code",
      "source": [
        "for ent in doc.ents:\n",
        "  print(ent.text, ent.start_char,ent.end_char, ent.label_)\n",
        "sent_0 = en('i am Dr. Kalam from bihar. studying in KLU since 2022')\n",
        "for token in sent_0:\n",
        "  print(token.text, token.ent_type_)"
      ],
      "metadata": {
        "colab": {
          "base_uri": "https://localhost:8080/"
        },
        "id": "eS2kw8wXhgGF",
        "outputId": "468a09e3-5c6d-4d7a-e457-e3b63cd01787"
      },
      "execution_count": null,
      "outputs": [
        {
          "output_type": "stream",
          "name": "stdout",
          "text": [
            "i \n",
            "am \n",
            "Dr. \n",
            "Kalam PERSON\n",
            "from \n",
            "bihar \n",
            ". \n",
            "studying \n",
            "in \n",
            "KLU ORG\n",
            "since \n",
            "2022 DATE\n"
          ]
        }
      ]
    },
    {
      "cell_type": "code",
      "source": [
        "for ent in sent_0.ents:\n",
        "  print(ent.text, ent.label_)"
      ],
      "metadata": {
        "colab": {
          "base_uri": "https://localhost:8080/"
        },
        "id": "ZUOpJdJqiW2c",
        "outputId": "d50ea156-3038-4076-ec4c-854c83188137"
      },
      "execution_count": null,
      "outputs": [
        {
          "output_type": "stream",
          "name": "stdout",
          "text": [
            "Kalam PERSON\n",
            "KLU ORG\n",
            "2022 DATE\n"
          ]
        }
      ]
    },
    {
      "cell_type": "code",
      "source": [],
      "metadata": {
        "id": "2FSVpMwpibh8"
      },
      "execution_count": null,
      "outputs": []
    }
  ]
}