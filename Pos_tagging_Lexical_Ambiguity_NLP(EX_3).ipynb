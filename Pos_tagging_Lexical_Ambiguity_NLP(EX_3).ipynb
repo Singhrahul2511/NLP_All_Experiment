{
  "nbformat": 4,
  "nbformat_minor": 0,
  "metadata": {
    "colab": {
      "provenance": [],
      "authorship_tag": "ABX9TyMFxetSXd7oRmO149T5Cjte",
      "include_colab_link": true
    },
    "kernelspec": {
      "name": "python3",
      "display_name": "Python 3"
    },
    "language_info": {
      "name": "python"
    }
  },
  "cells": [
    {
      "cell_type": "markdown",
      "metadata": {
        "id": "view-in-github",
        "colab_type": "text"
      },
      "source": [
        "<a href=\"https://colab.research.google.com/github/Singhrahul2511/NLP_All_Experiment/blob/main/Pos_tagging_Lexical_Ambiguity_NLP(EX_3).ipynb\" target=\"_parent\"><img src=\"https://colab.research.google.com/assets/colab-badge.svg\" alt=\"Open In Colab\"/></a>"
      ]
    },
    {
      "cell_type": "markdown",
      "source": [
        "**Coding for POS tagging**"
      ],
      "metadata": {
        "id": "sJ1ysOeurjha"
      }
    },
    {
      "cell_type": "code",
      "execution_count": null,
      "metadata": {
        "colab": {
          "base_uri": "https://localhost:8080/"
        },
        "id": "IaKT39_uofa-",
        "outputId": "394d5881-910f-473a-d677-b66658fb4656"
      },
      "outputs": [
        {
          "output_type": "stream",
          "name": "stdout",
          "text": [
            "Requirement already satisfied: nltk in /usr/local/lib/python3.10/dist-packages (3.8.1)\n",
            "Requirement already satisfied: click in /usr/local/lib/python3.10/dist-packages (from nltk) (8.1.7)\n",
            "Requirement already satisfied: joblib in /usr/local/lib/python3.10/dist-packages (from nltk) (1.4.2)\n",
            "Requirement already satisfied: regex>=2021.8.3 in /usr/local/lib/python3.10/dist-packages (from nltk) (2024.5.15)\n",
            "Requirement already satisfied: tqdm in /usr/local/lib/python3.10/dist-packages (from nltk) (4.66.5)\n"
          ]
        },
        {
          "output_type": "stream",
          "name": "stderr",
          "text": [
            "[nltk_data] Downloading package punkt to /root/nltk_data...\n",
            "[nltk_data]   Package punkt is already up-to-date!\n",
            "[nltk_data] Downloading package averaged_perceptron_tagger to\n",
            "[nltk_data]     /root/nltk_data...\n",
            "[nltk_data]   Unzipping taggers/averaged_perceptron_tagger.zip.\n"
          ]
        },
        {
          "output_type": "stream",
          "name": "stdout",
          "text": [
            "[('i', 'NN'), ('am', 'VBP'), ('learning', 'VBG'), ('NLP', 'NNP'), ('in', 'IN'), ('my', 'PRP$'), ('5th', 'CD'), ('semester', 'NN')]\n"
          ]
        }
      ],
      "source": [
        "# import nltk\n",
        "# nltk.download('punkt')\n",
        "# nltk.download('stopwords')\n",
        "# nltk.download('averaged_perceptron_tagger')\n",
        "from nltk.tokenize import word_tokenize, sent_tokenize\n",
        "!pip install nltk # install nltk if it's not installed\n",
        "import nltk # import nltk\n",
        "nltk.download('punkt') # download the punkt package\n",
        "nltk.download('averaged_perceptron_tagger') # download the averaged_perceptron_tagger package\n",
        "txt = \"i am learning NLP in my 5th semester\"\n",
        "tokenized = sent_tokenize(txt)\n",
        "for i in tokenized:\n",
        "  wordlist = nltk.word_tokenize(i)\n",
        "  tagged = nltk.pos_tag(wordlist)\n",
        "  print(tagged)"
      ]
    },
    {
      "cell_type": "markdown",
      "source": [
        "**Coding for Ambiguity analysis:**"
      ],
      "metadata": {
        "id": "bJSERP89rvOm"
      }
    },
    {
      "cell_type": "code",
      "source": [
        "import nltk\n",
        "from nltk.corpus import wordnet as wn\n",
        "from nltk.tokenize import word_tokenize\n",
        "from nltk.wsd import lesk"
      ],
      "metadata": {
        "id": "IA3UW9M7qjhc"
      },
      "execution_count": null,
      "outputs": []
    },
    {
      "cell_type": "code",
      "source": [
        "nltk.download('wordnet')\n",
        "nltk.download('punkt')\n",
        "nltk.download('omw-1.4')"
      ],
      "metadata": {
        "id": "tkVddtelsiKi",
        "colab": {
          "base_uri": "https://localhost:8080/"
        },
        "outputId": "dbe1fb68-efed-44bb-80f3-b083d64523ea"
      },
      "execution_count": null,
      "outputs": [
        {
          "output_type": "stream",
          "name": "stderr",
          "text": [
            "[nltk_data] Downloading package wordnet to /root/nltk_data...\n",
            "[nltk_data] Downloading package punkt to /root/nltk_data...\n",
            "[nltk_data]   Package punkt is already up-to-date!\n",
            "[nltk_data] Downloading package omw-1.4 to /root/nltk_data...\n"
          ]
        },
        {
          "output_type": "execute_result",
          "data": {
            "text/plain": [
              "True"
            ]
          },
          "metadata": {},
          "execution_count": 4
        }
      ]
    },
    {
      "cell_type": "code",
      "source": [
        "def classify_ambiguity(word, context):\n",
        "    synsets = wn.synsets(word)\n",
        "    if len(synsets) > 1:\n",
        "        return \"Lexical Ambiguity\"\n",
        "    return \"No Ambiguity\"\n"
      ],
      "metadata": {
        "id": "Jyoy_engs9JB"
      },
      "execution_count": null,
      "outputs": []
    },
    {
      "cell_type": "code",
      "source": [
        "def detect_ambiguity_in_sentence(sentence):\n",
        "    words = word_tokenize(sentence)\n",
        "    for word in words:\n",
        "        # Classify the ambiguity\n",
        "        ambiguity_type = classify_ambiguity(word, sentence)\n",
        "        if ambiguity_type == \"Lexical Ambiguity\":\n",
        "            print(f\"The word '{word}' is potentially ambiguous ({ambiguity_type}). It has the following meanings:\")\n",
        "            synsets = wn.synsets(word)\n",
        "            for synset in synsets:\n",
        "                print(f\"- {synset.definition()}\")\n",
        "            best_synset = lesk(words, word)\n",
        "            if best_synset:\n",
        "                print(f\"Based on the context, the most likely meaning is: {best_synset.definition()}\")\n",
        "            else:\n",
        "                print(f\"Could not determine the meaning based on the context.\")\n",
        "            print()\n",
        "        else:\n",
        "            print(f\"The word '{word}' is not ambiguous.\\n\")\n"
      ],
      "metadata": {
        "id": "QBVaF6-7t9NX"
      },
      "execution_count": null,
      "outputs": []
    },
    {
      "cell_type": "code",
      "source": [
        "sentence = input(\"Enter a sentence: \")\n",
        "detect_ambiguity_in_sentence(sentence)"
      ],
      "metadata": {
        "colab": {
          "base_uri": "https://localhost:8080/"
        },
        "id": "DPezaWU9uJ0x",
        "outputId": "a65708ec-8c67-4a20-ad79-668123c6c331"
      },
      "execution_count": null,
      "outputs": [
        {
          "output_type": "stream",
          "name": "stdout",
          "text": [
            "Enter a sentence: He saw the bat\n",
            "The word 'He' is potentially ambiguous (Lexical Ambiguity). It has the following meanings:\n",
            "- a very light colorless element that is one of the six inert gasses; the most difficult gas to liquefy; occurs in economically extractable amounts in certain natural gases (as those found in Texas and Kansas)\n",
            "- the 5th letter of the Hebrew alphabet\n",
            "Based on the context, the most likely meaning is: a very light colorless element that is one of the six inert gasses; the most difficult gas to liquefy; occurs in economically extractable amounts in certain natural gases (as those found in Texas and Kansas)\n",
            "\n",
            "The word 'saw' is potentially ambiguous (Lexical Ambiguity). It has the following meanings:\n",
            "- a condensed but memorable saying embodying some important fact of experience that is taken as true by many people\n",
            "- hand tool having a toothed blade for cutting\n",
            "- a power tool for cutting wood\n",
            "- cut with a saw\n",
            "- perceive by sight or have the power to perceive by sight\n",
            "- perceive (an idea or situation) mentally\n",
            "- perceive or be contemporaneous with\n",
            "- imagine; conceive of; see in one's mind\n",
            "- deem to be\n",
            "- get to know or become aware of, usually accidentally\n",
            "- see or watch\n",
            "- come together\n",
            "- find out, learn, or determine with certainty, usually by making an inquiry or other effort\n",
            "- be careful or certain to do something; make certain of something\n",
            "- go to see for professional or business reasons\n",
            "- go to see for a social visit\n",
            "- go to see a place, as for entertainment\n",
            "- take charge of or deal with\n",
            "- receive as a specified guest\n",
            "- date regularly; have a steady relationship with\n",
            "- see and understand, have a good eye\n",
            "- deliberate or decide\n",
            "- observe as if with an eye\n",
            "- observe, check out, and look over carefully or inspect\n",
            "- go or live through\n",
            "- accompany or escort\n",
            "- match or meet\n",
            "- make sense of; assign a meaning to\n",
            "Based on the context, the most likely meaning is: perceive by sight or have the power to perceive by sight\n",
            "\n",
            "The word 'the' is not ambiguous.\n",
            "\n",
            "The word 'bat' is potentially ambiguous (Lexical Ambiguity). It has the following meanings:\n",
            "- nocturnal mouselike mammal with forelimbs modified to form membranous wings and anatomical adaptations for echolocation by which they navigate\n",
            "- (baseball) a turn trying to get a hit\n",
            "- a small racket with a long handle used for playing squash\n",
            "- the club used in playing cricket\n",
            "- a club used for hitting a ball in various games\n",
            "- strike with, or as if with a baseball bat\n",
            "- wink briefly\n",
            "- have a turn at bat\n",
            "- use a bat\n",
            "- beat thoroughly and conclusively in a competition or fight\n",
            "Based on the context, the most likely meaning is: the club used in playing cricket\n",
            "\n"
          ]
        }
      ]
    },
    {
      "cell_type": "markdown",
      "source": [
        "**Sementic Ambiguity**"
      ],
      "metadata": {
        "id": "ND9L-AyE0k1x"
      }
    },
    {
      "cell_type": "code",
      "source": [
        "import nltk\n",
        "from nltk.corpus import wordnet as wn\n",
        "from nltk.tokenize import word_tokenize\n",
        "\n",
        "# Ensure you have downloaded the necessary resources\n",
        "nltk.download('wordnet')\n",
        "nltk.download('omw-1.4')\n",
        "nltk.download('punkt')\n",
        "nltk.download('averaged_perceptron_tagger')\n",
        "\n",
        "def classify_ambiguity(word):\n",
        "    synsets = wn.synsets(word)\n",
        "    if len(synsets) > 1:\n",
        "        return \"Semantic Ambiguity\"\n",
        "    return \"No Ambiguity\"\n",
        "\n",
        "def detect_semantic_ambiguity(sentence):\n",
        "    words = word_tokenize(sentence)\n",
        "    for word in words:\n",
        "        ambiguity_type = classify_ambiguity(word)\n",
        "        if ambiguity_type == \"Semantic Ambiguity\":\n",
        "            synsets = wn.synsets(word)\n",
        "            print(f\"The word '{word}' is semantically ambiguous. It has the following meanings:\")\n",
        "            for synset in synsets:\n",
        "                print(f\"- {synset.definition()}\")\n",
        "            print()\n",
        "\n",
        "# Example usage\n",
        "sentence = \"I went to the bank.\"\n",
        "detect_semantic_ambiguity(sentence)\n"
      ],
      "metadata": {
        "id": "AcvWvxdFfFA8"
      },
      "execution_count": null,
      "outputs": []
    },
    {
      "cell_type": "markdown",
      "source": [
        "**syntatic ambiguity**"
      ],
      "metadata": {
        "id": "mPPhjR9IfTxr"
      }
    },
    {
      "cell_type": "code",
      "source": [
        "import nltk\n",
        "from nltk import CFG\n",
        "from nltk.parse import ChartParser\n",
        "import string\n",
        "\n",
        "# Ensure you have downloaded the necessary resources\n",
        "nltk.download('punkt')\n",
        "\n",
        "def detect_syntactic_ambiguity(sentence):\n",
        "    # Expanded grammar to cover more words\n",
        "    grammar = CFG.fromstring(\"\"\"\n",
        "    S -> NP VP\n",
        "    NP -> Det N | Det N PP | 'The' N | N\n",
        "    VP -> V NP | VP PP\n",
        "    PP -> P NP\n",
        "    Det -> 'a' | 'the'\n",
        "    N -> 'man' | 'telescope' | 'park' | 'girl'\n",
        "    V -> 'saw'\n",
        "    P -> 'with' | 'in'\n",
        "    \"\"\")\n",
        "    parser = ChartParser(grammar)\n",
        "\n",
        "    # Remove punctuation from the sentence\n",
        "    sentence = sentence.translate(str.maketrans('', '', string.punctuation))\n",
        "\n",
        "    # Tokenize the sentence\n",
        "    tokens = nltk.word_tokenize(sentence)\n",
        "\n",
        "    parses = list(parser.parse(tokens))\n",
        "    if len(parses) > 1:\n",
        "        print(f\"The sentence '{sentence}' is syntactically ambiguous. It has the following parse trees:\")\n",
        "        for tree in parses:\n",
        "            print(tree)\n",
        "    else:\n",
        "        print(f\"The sentence '{sentence}' is not syntactically ambiguous.\")\n",
        "\n",
        "# Example usage\n",
        "sentence = \"The man saw the girl with the telescope.\"\n",
        "detect_syntactic_ambiguity(sentence)\n"
      ],
      "metadata": {
        "id": "5IxDnUit17D8"
      },
      "execution_count": null,
      "outputs": []
    },
    {
      "cell_type": "markdown",
      "source": [
        "**Pragmatic Ambiguity**"
      ],
      "metadata": {
        "id": "T_vZ_jk2iszU"
      }
    },
    {
      "cell_type": "code",
      "source": [
        "def detect_pragmatic_ambiguity(sentence, context):\n",
        "    if context == \"restaurant\":\n",
        "        if \"can you pass the salt\" in sentence.lower():\n",
        "            print(f\"Pragmatic Ambiguity: The sentence '{sentence}' is actually a polite request, not a question about ability.\")\n",
        "    elif context == \"school\":\n",
        "        if \"can you solve this problem\" in sentence.lower():\n",
        "            print(f\"Pragmatic Ambiguity: The sentence '{sentence}' is asking about the ability to solve a problem, not requesting to solve it immediately.\")\n",
        "    else:\n",
        "        print(f\"No specific pragmatic ambiguity detected for the context '{context}'.\")\n",
        "\n",
        "# Example usage\n",
        "sentence = \"Can you pass the salt?\"\n",
        "context = \"restaurant\"\n",
        "detect_pragmatic_ambiguity(sentence, context)\n",
        "\n",
        "context = \"school\"\n",
        "sentence = \"Can you solve this problem?\"\n",
        "detect_pragmatic_ambiguity(sentence, context)\n"
      ],
      "metadata": {
        "id": "N2KpvfBM4i2e"
      },
      "execution_count": null,
      "outputs": []
    },
    {
      "cell_type": "code",
      "source": [],
      "metadata": {
        "id": "rxccead1iyW_"
      },
      "execution_count": null,
      "outputs": []
    }
  ]
}